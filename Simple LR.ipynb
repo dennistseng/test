{
 "cells": [
  {
   "cell_type": "code",
   "execution_count": 1,
   "id": "1795a65f-088a-40bb-ac13-6beb6a8fd043",
   "metadata": {},
   "outputs": [],
   "source": [
    "import pandas as pd\n",
    "import numpy as np\n",
    "\n",
    "from sklearn.linear_model import LinearRegression"
   ]
  },
  {
   "cell_type": "code",
   "execution_count": 15,
   "id": "ce2f9cf0-69ff-4bde-837a-4dc53e125620",
   "metadata": {},
   "outputs": [],
   "source": [
    "df = pd.read_csv('BeerWineLiquor.csv', parse_dates = ['date'])"
   ]
  },
  {
   "cell_type": "code",
   "execution_count": 16,
   "id": "0d7c22c6-7de3-4945-bc52-2e7763158ee7",
   "metadata": {},
   "outputs": [
    {
     "data": {
      "text/html": [
       "<div>\n",
       "<style scoped>\n",
       "    .dataframe tbody tr th:only-of-type {\n",
       "        vertical-align: middle;\n",
       "    }\n",
       "\n",
       "    .dataframe tbody tr th {\n",
       "        vertical-align: top;\n",
       "    }\n",
       "\n",
       "    .dataframe thead th {\n",
       "        text-align: right;\n",
       "    }\n",
       "</style>\n",
       "<table border=\"1\" class=\"dataframe\">\n",
       "  <thead>\n",
       "    <tr style=\"text-align: right;\">\n",
       "      <th></th>\n",
       "      <th>date</th>\n",
       "      <th>beer</th>\n",
       "    </tr>\n",
       "  </thead>\n",
       "  <tbody>\n",
       "    <tr>\n",
       "      <th>0</th>\n",
       "      <td>1992-01-01</td>\n",
       "      <td>1509</td>\n",
       "    </tr>\n",
       "    <tr>\n",
       "      <th>1</th>\n",
       "      <td>1992-02-01</td>\n",
       "      <td>1541</td>\n",
       "    </tr>\n",
       "    <tr>\n",
       "      <th>2</th>\n",
       "      <td>1992-03-01</td>\n",
       "      <td>1597</td>\n",
       "    </tr>\n",
       "    <tr>\n",
       "      <th>3</th>\n",
       "      <td>1992-04-01</td>\n",
       "      <td>1675</td>\n",
       "    </tr>\n",
       "    <tr>\n",
       "      <th>4</th>\n",
       "      <td>1992-05-01</td>\n",
       "      <td>1822</td>\n",
       "    </tr>\n",
       "    <tr>\n",
       "      <th>...</th>\n",
       "      <td>...</td>\n",
       "      <td>...</td>\n",
       "    </tr>\n",
       "    <tr>\n",
       "      <th>319</th>\n",
       "      <td>2018-08-01</td>\n",
       "      <td>4898</td>\n",
       "    </tr>\n",
       "    <tr>\n",
       "      <th>320</th>\n",
       "      <td>2018-09-01</td>\n",
       "      <td>4598</td>\n",
       "    </tr>\n",
       "    <tr>\n",
       "      <th>321</th>\n",
       "      <td>2018-10-01</td>\n",
       "      <td>4737</td>\n",
       "    </tr>\n",
       "    <tr>\n",
       "      <th>322</th>\n",
       "      <td>2018-11-01</td>\n",
       "      <td>5130</td>\n",
       "    </tr>\n",
       "    <tr>\n",
       "      <th>323</th>\n",
       "      <td>2018-12-01</td>\n",
       "      <td>6370</td>\n",
       "    </tr>\n",
       "  </tbody>\n",
       "</table>\n",
       "<p>324 rows × 2 columns</p>\n",
       "</div>"
      ],
      "text/plain": [
       "          date  beer\n",
       "0   1992-01-01  1509\n",
       "1   1992-02-01  1541\n",
       "2   1992-03-01  1597\n",
       "3   1992-04-01  1675\n",
       "4   1992-05-01  1822\n",
       "..         ...   ...\n",
       "319 2018-08-01  4898\n",
       "320 2018-09-01  4598\n",
       "321 2018-10-01  4737\n",
       "322 2018-11-01  5130\n",
       "323 2018-12-01  6370\n",
       "\n",
       "[324 rows x 2 columns]"
      ]
     },
     "execution_count": 16,
     "metadata": {},
     "output_type": "execute_result"
    }
   ],
   "source": [
    "df"
   ]
  },
  {
   "cell_type": "code",
   "execution_count": 31,
   "id": "a8c2f4a9-5e56-4ab9-8e46-6be1b39dbe00",
   "metadata": {},
   "outputs": [],
   "source": [
    "# Remove last N results from dataframe and run simple linear regression\n",
    "df_lr = df.tail(10)\n",
    "df_lr.reset_index(inplace=True)"
   ]
  },
  {
   "cell_type": "code",
   "execution_count": 32,
   "id": "b875eca8-40f5-4a6a-adf3-4b43cffd8088",
   "metadata": {},
   "outputs": [
    {
     "data": {
      "text/html": [
       "<div>\n",
       "<style scoped>\n",
       "    .dataframe tbody tr th:only-of-type {\n",
       "        vertical-align: middle;\n",
       "    }\n",
       "\n",
       "    .dataframe tbody tr th {\n",
       "        vertical-align: top;\n",
       "    }\n",
       "\n",
       "    .dataframe thead th {\n",
       "        text-align: right;\n",
       "    }\n",
       "</style>\n",
       "<table border=\"1\" class=\"dataframe\">\n",
       "  <thead>\n",
       "    <tr style=\"text-align: right;\">\n",
       "      <th></th>\n",
       "      <th>index</th>\n",
       "      <th>date</th>\n",
       "      <th>beer</th>\n",
       "    </tr>\n",
       "  </thead>\n",
       "  <tbody>\n",
       "    <tr>\n",
       "      <th>0</th>\n",
       "      <td>314</td>\n",
       "      <td>2018-03-01</td>\n",
       "      <td>4629</td>\n",
       "    </tr>\n",
       "    <tr>\n",
       "      <th>1</th>\n",
       "      <td>315</td>\n",
       "      <td>2018-04-01</td>\n",
       "      <td>4317</td>\n",
       "    </tr>\n",
       "    <tr>\n",
       "      <th>2</th>\n",
       "      <td>316</td>\n",
       "      <td>2018-05-01</td>\n",
       "      <td>4897</td>\n",
       "    </tr>\n",
       "    <tr>\n",
       "      <th>3</th>\n",
       "      <td>317</td>\n",
       "      <td>2018-06-01</td>\n",
       "      <td>4939</td>\n",
       "    </tr>\n",
       "    <tr>\n",
       "      <th>4</th>\n",
       "      <td>318</td>\n",
       "      <td>2018-07-01</td>\n",
       "      <td>4963</td>\n",
       "    </tr>\n",
       "    <tr>\n",
       "      <th>5</th>\n",
       "      <td>319</td>\n",
       "      <td>2018-08-01</td>\n",
       "      <td>4898</td>\n",
       "    </tr>\n",
       "    <tr>\n",
       "      <th>6</th>\n",
       "      <td>320</td>\n",
       "      <td>2018-09-01</td>\n",
       "      <td>4598</td>\n",
       "    </tr>\n",
       "    <tr>\n",
       "      <th>7</th>\n",
       "      <td>321</td>\n",
       "      <td>2018-10-01</td>\n",
       "      <td>4737</td>\n",
       "    </tr>\n",
       "    <tr>\n",
       "      <th>8</th>\n",
       "      <td>322</td>\n",
       "      <td>2018-11-01</td>\n",
       "      <td>5130</td>\n",
       "    </tr>\n",
       "    <tr>\n",
       "      <th>9</th>\n",
       "      <td>323</td>\n",
       "      <td>2018-12-01</td>\n",
       "      <td>6370</td>\n",
       "    </tr>\n",
       "  </tbody>\n",
       "</table>\n",
       "</div>"
      ],
      "text/plain": [
       "   index       date  beer\n",
       "0    314 2018-03-01  4629\n",
       "1    315 2018-04-01  4317\n",
       "2    316 2018-05-01  4897\n",
       "3    317 2018-06-01  4939\n",
       "4    318 2018-07-01  4963\n",
       "5    319 2018-08-01  4898\n",
       "6    320 2018-09-01  4598\n",
       "7    321 2018-10-01  4737\n",
       "8    322 2018-11-01  5130\n",
       "9    323 2018-12-01  6370"
      ]
     },
     "execution_count": 32,
     "metadata": {},
     "output_type": "execute_result"
    }
   ],
   "source": [
    "df_lr"
   ]
  },
  {
   "cell_type": "code",
   "execution_count": 82,
   "id": "5722386f-8d62-4c1f-bb3a-f0fbb9bebdea",
   "metadata": {},
   "outputs": [
    {
     "data": {
      "text/plain": [
       "LinearRegression()"
      ]
     },
     "execution_count": 82,
     "metadata": {},
     "output_type": "execute_result"
    }
   ],
   "source": [
    "model = LinearRegression()\n",
    "\n",
    "X = df_lr['index'].values.reshape(-1, 1)\n",
    "y = df_lr['beer'].values.reshape(-1, 1)\n",
    "\n",
    "model.fit(X, y)"
   ]
  },
  {
   "cell_type": "code",
   "execution_count": 83,
   "id": "557b6317-a871-4c7f-a66a-cc4d663a96d8",
   "metadata": {},
   "outputs": [],
   "source": [
    "n = 10\n",
    "\n",
    "new_values = np.empty(0)\n",
    "X_pred = X.copy().flatten()\n",
    "\n",
    "for i in range(n):\n",
    "    new_value = X_pred[-1] + 1\n",
    "    X_pred = np.append(X_pred, new_value)\n",
    "    new_values = np.append(new_values, new_value)\n",
    "    \n",
    "new_values = new_values.reshape(-1,1)"
   ]
  },
  {
   "cell_type": "code",
   "execution_count": 84,
   "id": "f4477294-5954-40a0-8bf3-0d427580b697",
   "metadata": {},
   "outputs": [
    {
     "data": {
      "text/plain": [
       "array([[324.],\n",
       "       [325.],\n",
       "       [326.],\n",
       "       [327.],\n",
       "       [328.],\n",
       "       [329.],\n",
       "       [330.],\n",
       "       [331.],\n",
       "       [332.],\n",
       "       [333.]])"
      ]
     },
     "execution_count": 84,
     "metadata": {},
     "output_type": "execute_result"
    }
   ],
   "source": [
    "new_values"
   ]
  },
  {
   "cell_type": "code",
   "execution_count": 85,
   "id": "b02a7781-3fb8-4b29-ab6b-1c40a09895f6",
   "metadata": {},
   "outputs": [],
   "source": [
    "predictions = model.predict(new_values)"
   ]
  },
  {
   "cell_type": "code",
   "execution_count": 86,
   "id": "fe032d5e-47fa-4323-8d78-40c9368e00c9",
   "metadata": {},
   "outputs": [
    {
     "data": {
      "text/plain": [
       "array([[5596.86666667],\n",
       "       [5714.87878788],\n",
       "       [5832.89090909],\n",
       "       [5950.9030303 ],\n",
       "       [6068.91515152],\n",
       "       [6186.92727273],\n",
       "       [6304.93939394],\n",
       "       [6422.95151515],\n",
       "       [6540.96363636],\n",
       "       [6658.97575758]])"
      ]
     },
     "execution_count": 86,
     "metadata": {},
     "output_type": "execute_result"
    }
   ],
   "source": [
    "predictions"
   ]
  }
 ],
 "metadata": {
  "kernelspec": {
   "display_name": "Python 3 (ipykernel)",
   "language": "python",
   "name": "python3"
  },
  "language_info": {
   "codemirror_mode": {
    "name": "ipython",
    "version": 3
   },
   "file_extension": ".py",
   "mimetype": "text/x-python",
   "name": "python",
   "nbconvert_exporter": "python",
   "pygments_lexer": "ipython3",
   "version": "3.9.7"
  }
 },
 "nbformat": 4,
 "nbformat_minor": 5
}
